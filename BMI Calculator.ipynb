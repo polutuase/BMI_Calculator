{
 "cells": [
  {
   "cell_type": "code",
   "execution_count": 24,
   "id": "abb34d21",
   "metadata": {},
   "outputs": [
    {
     "name": "stdout",
     "output_type": "stream",
     "text": [
      "Enter your nameAde\n",
      "Enter wight in pounds: -170\n",
      "Enter wight in inches: 69\n",
      "BMI is -25.101869355177485\n"
     ]
    }
   ],
   "source": [
    "name = input('Enter your name')\n",
    "weight = int(input(\"Enter wight in pounds: \"))\n",
    "height = int(input(\"Enter wight in inches: \"))\n",
    "BMI = (weight * 703) / (height * height )\n",
    "print('BMI is',BMI)"
   ]
  },
  {
   "cell_type": "code",
   "execution_count": 25,
   "id": "63261576",
   "metadata": {},
   "outputs": [
    {
     "name": "stdout",
     "output_type": "stream",
     "text": [
      "enter a valid weight\n"
     ]
    }
   ],
   "source": [
    "if BMI > 0 :\n",
    "    if BMI < 18.5:\n",
    "        print(name, 'is underweight')\n",
    "    elif BMI <= 24.9:\n",
    "        print(name, 'is normal')\n",
    "    elif BMI <29.9:\n",
    "        print(name, 'is overweight')\n",
    "    elif BMI <34.9:\n",
    "        print(name, 'is obese')\n",
    "    elif BMI <39.9:\n",
    "        print(name, 'is severly obese')\n",
    "    else:\n",
    "        print(name, 'is extremely obese') \n",
    "else:\n",
    "    if weight < 0:\n",
    "        print('enter a valid weight')\n",
    "    elif height < 0:\n",
    "        print('enter a valid height')"
   ]
  },
  {
   "cell_type": "code",
   "execution_count": null,
   "id": "a0b2c464",
   "metadata": {},
   "outputs": [],
   "source": []
  },
  {
   "cell_type": "code",
   "execution_count": null,
   "id": "03ecb327",
   "metadata": {},
   "outputs": [],
   "source": []
  },
  {
   "cell_type": "code",
   "execution_count": null,
   "id": "72c659c2",
   "metadata": {},
   "outputs": [],
   "source": []
  }
 ],
 "metadata": {
  "kernelspec": {
   "display_name": "Python 3 (ipykernel)",
   "language": "python",
   "name": "python3"
  },
  "language_info": {
   "codemirror_mode": {
    "name": "ipython",
    "version": 3
   },
   "file_extension": ".py",
   "mimetype": "text/x-python",
   "name": "python",
   "nbconvert_exporter": "python",
   "pygments_lexer": "ipython3",
   "version": "3.10.9"
  }
 },
 "nbformat": 4,
 "nbformat_minor": 5
}
